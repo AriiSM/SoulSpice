{
 "cells": [
  {
   "cell_type": "markdown",
   "id": "8446e17d",
   "metadata": {},
   "source": [
    "data set: RecipeNLG"
   ]
  },
  {
   "cell_type": "code",
   "execution_count": 1,
   "id": "c573f28f",
   "metadata": {},
   "outputs": [],
   "source": [
    "import pandas as pd"
   ]
  },
  {
   "cell_type": "code",
   "execution_count": null,
   "id": "ee46b8ff",
   "metadata": {},
   "outputs": [],
   "source": [
    "def save_recipes_to_txt(csv_file, txt_file):\n",
    "    chunk_size = 1\n",
    "    chunks = pd.read_csv(csv_file, chunksize=chunk_size)\n",
    "    \n",
    "    with open(txt_file, 'w', encoding='utf-8') as output_file:\n",
    "        for idx, chunk in enumerate(chunks):\n",
    "            title = chunk['title'].values[0]\n",
    "            ingredients = chunk['ingredients'].values[0]\n",
    "            directions = chunk['directions'].values[0]\n",
    "\n",
    "            output_file.write(f\"Title: {title}\\n\")\n",
    "            output_file.write(f\"Ingredients: {ingredients}\\n\")\n",
    "            output_file.write(f\"Directions: {directions}\\n\")\n",
    "            output_file.write(\"==RECIPE END==\\n\")\n",
    "    \n",
    "    print(f\"Toate rețetele au fost salvate în {txt_file}\")"
   ]
  },
  {
   "cell_type": "code",
   "execution_count": 3,
   "id": "6dddf182",
   "metadata": {},
   "outputs": [],
   "source": [
    "source_file = 'full_dataset.csv'\n",
    "destination_file = 'parsed_recipes.txt'"
   ]
  },
  {
   "cell_type": "code",
   "execution_count": null,
   "id": "7c2ffae5",
   "metadata": {},
   "outputs": [],
   "source": [
    "save_recipes_to_txt(source_file, destination_file)"
   ]
  },
  {
   "cell_type": "code",
   "execution_count": null,
   "id": "a84493f3",
   "metadata": {},
   "outputs": [],
   "source": [
    "input_file = \"parsed_recipes_all.txt\"\n",
    "output_file = \"parsed_recipes.txt\"\n",
    "\n",
    "max_lines = 10000\n",
    "\n",
    "with open(input_file, \"r\", encoding=\"utf-8\") as infile, open(output_file, \"w\", encoding=\"utf-8\") as outfile:\n",
    "    for i, line in enumerate(infile):\n",
    "        if i >= max_lines:\n",
    "            break\n",
    "        outfile.write(line)\n"
   ]
  }
 ],
 "metadata": {
  "kernelspec": {
   "display_name": ".venv",
   "language": "python",
   "name": "python3"
  },
  "language_info": {
   "codemirror_mode": {
    "name": "ipython",
    "version": 3
   },
   "file_extension": ".py",
   "mimetype": "text/x-python",
   "name": "python",
   "nbconvert_exporter": "python",
   "pygments_lexer": "ipython3",
   "version": "3.11.9"
  }
 },
 "nbformat": 4,
 "nbformat_minor": 5
}
