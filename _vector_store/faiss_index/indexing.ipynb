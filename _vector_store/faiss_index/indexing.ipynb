{
 "cells": [
  {
   "cell_type": "code",
   "execution_count": 1,
   "id": "ad9bee88",
   "metadata": {},
   "outputs": [
    {
     "name": "stderr",
     "output_type": "stream",
     "text": [
      "d:\\Ariana\\Facultate\\SEM6\\LLM\\Proiect\\project\\venv\\Lib\\site-packages\\tqdm\\auto.py:21: TqdmWarning: IProgress not found. Please update jupyter and ipywidgets. See https://ipywidgets.readthedocs.io/en/stable/user_install.html\n",
      "  from .autonotebook import tqdm as notebook_tqdm\n"
     ]
    }
   ],
   "source": [
    "from sentence_transformers import SentenceTransformer\n",
    "import faiss\n",
    "import numpy as np"
   ]
  },
  {
   "cell_type": "code",
   "execution_count": 10,
   "id": "9fdc504f",
   "metadata": {},
   "outputs": [],
   "source": [
    "def create_faiss_index(source_file, output_file, delimiter='==CHUNK END==', model_name='all-MiniLM-L6-v2'):\n",
    "    \n",
    "    # Read and split the text\n",
    "    with open(source_file, \"r\", encoding=\"utf-8\") as f:\n",
    "        content = f.read()\n",
    "    chunks = content.split(delimiter)\n",
    "\n",
    "    # Load the model and encode the chunks\n",
    "    model = SentenceTransformer(model_name)\n",
    "    embeddings = model.encode(chunks)\n",
    "\n",
    "    # Create the FAISS index\n",
    "    dimension = embeddings.shape[1]\n",
    "    index = faiss.IndexFlatL2(dimension)\n",
    "    index.add(np.array(embeddings))\n",
    "\n",
    "    # Save the index to the output file\n",
    "    faiss.write_index(index, output_file)\n",
    "    print(f\"Index created and saved to {output_file}\")"
   ]
  },
  {
   "cell_type": "markdown",
   "id": "d85db6e0",
   "metadata": {},
   "source": [
    "# Bucatar"
   ]
  },
  {
   "cell_type": "code",
   "execution_count": 11,
   "id": "1afc1f0d",
   "metadata": {},
   "outputs": [
    {
     "name": "stdout",
     "output_type": "stream",
     "text": [
      "Index created and saved to recipes.faiss\n"
     ]
    }
   ],
   "source": [
    "source_file = '../recipes_dataset/parsed_recipes.txt'\n",
    "output_file = 'recipes.faiss'\n",
    "create_faiss_index(source_file, output_file)"
   ]
  },
  {
   "cell_type": "markdown",
   "id": "286a3109",
   "metadata": {},
   "source": [
    "# Psiholog"
   ]
  },
  {
   "cell_type": "code",
   "execution_count": 12,
   "id": "5bb8cc00",
   "metadata": {},
   "outputs": [
    {
     "name": "stdout",
     "output_type": "stream",
     "text": [
      "Index created and saved to conversations.faiss\n"
     ]
    }
   ],
   "source": [
    "source_file = '../conversations_dataset/parsed_conversations.txt'\n",
    "output_file = 'conversations.faiss'\n",
    "create_faiss_index(source_file, output_file)"
   ]
  }
 ],
 "metadata": {
  "kernelspec": {
   "display_name": "venv",
   "language": "python",
   "name": "python3"
  },
  "language_info": {
   "codemirror_mode": {
    "name": "ipython",
    "version": 3
   },
   "file_extension": ".py",
   "mimetype": "text/x-python",
   "name": "python",
   "nbconvert_exporter": "python",
   "pygments_lexer": "ipython3",
   "version": "3.11.9"
  }
 },
 "nbformat": 4,
 "nbformat_minor": 5
}
