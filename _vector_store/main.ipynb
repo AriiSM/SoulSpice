{
 "cells": [
  {
   "cell_type": "code",
   "execution_count": 44,
   "id": "57d3d1b9",
   "metadata": {},
   "outputs": [],
   "source": [
    "#pip install faiss-cpu sentence-transformers openai"
   ]
  },
  {
   "cell_type": "code",
   "execution_count": 45,
   "id": "9921b511",
   "metadata": {},
   "outputs": [],
   "source": [
    "from sentence_transformers import SentenceTransformer\n",
    "import faiss\n",
    "import numpy as np"
   ]
  },
  {
   "cell_type": "code",
   "execution_count": 46,
   "id": "676bf098",
   "metadata": {},
   "outputs": [],
   "source": [
    "recipe_faiss_file = 'recipes_dataset\\parsed_recipes.txt'\n",
    "conversations_faiss_file = 'conversations_dataset\\parsed_conversations.txt'"
   ]
  },
  {
   "cell_type": "code",
   "execution_count": null,
   "id": "27b769de",
   "metadata": {},
   "outputs": [],
   "source": [
    "model = SentenceTransformer('all-MiniLM-L6-v2')"
   ]
  },
  {
   "cell_type": "code",
   "execution_count": 48,
   "id": "1dfd86ff",
   "metadata": {},
   "outputs": [],
   "source": [
    "recipes_index = faiss.read_index(\"recipes.faiss\")\n",
    "conversations_index = faiss.read_index(\"conversations.faiss\")"
   ]
  },
  {
   "cell_type": "code",
   "execution_count": 49,
   "id": "53e86c39",
   "metadata": {},
   "outputs": [],
   "source": [
    "def split_text(source_file, delimiter = '==CHUNK END=='):\n",
    "    with open(source_file, \"r\", encoding=\"utf-8\") as f:\n",
    "        content = f.read()\n",
    "    return content.split(delimiter)"
   ]
  },
  {
   "cell_type": "code",
   "execution_count": 50,
   "id": "e8fa885f",
   "metadata": {},
   "outputs": [],
   "source": [
    "recipes_chunks = split_text('recipes_dataset\\parsed_recipes.txt')\n",
    "conversations_chunks = split_text('conversations_dataset\\parsed_conversations.txt')"
   ]
  },
  {
   "cell_type": "code",
   "execution_count": null,
   "id": "3cba00a4",
   "metadata": {},
   "outputs": [],
   "source": [
    "question = \"I'm sad, what should i eat, can you give me a recipe?\"\n",
    "\n",
    "q_vector = model.encode([question])\n",
    "\n",
    "D1, I1 = recipes_index.search(np.array(q_vector), k=1)\n",
    "D2, I2 = conversations_index.search(np.array(q_vector), k=1)\n",
    "\n",
    "recipes_chunks = [recipes_chunks[i] for i in I1[0]]\n",
    "conversations_chunks = [conversations_chunks[i] for i in I2[0]]\n"
   ]
  },
  {
   "cell_type": "code",
   "execution_count": 52,
   "id": "4df407d6",
   "metadata": {},
   "outputs": [
    {
     "name": "stdout",
     "output_type": "stream",
     "text": [
      "Chunk 1: \n",
      "Title: Sour Cream 'N Dill Chicken\n",
      "Ingredients: [\"8 to 10 chicken pieces, skinned\", \"pepper\", \"1 can condensed cream of mushroom soup (undiluted)\", \"1 envelope dry onion soup mix\", \"1 c. (8 oz.) sour cream\", \"1 Tbsp. lemon juice\", \"1 Tbsp. fresh dill, chopped or 1 tsp. dill weed\", \"1 (4 oz.) can sliced mushrooms, drained\", \"paprika\", \"cooked wide egg noodles (optional)\"]\n",
      "Directions: [\"Dip pieces of chicken in melted margarine, then roll pieces in crushed Rice Krispies.\", \"Season to taste.\", \"Place in pan lined with aluminum foil.\", \"Bake for 1 hour at 350\\u00b0.\"]\n",
      "\n"
     ]
    }
   ],
   "source": [
    "for i, chunk in enumerate(recipes_chunks):\n",
    "    print(f\"Chunk {i+1}: {chunk}\")"
   ]
  },
  {
   "cell_type": "code",
   "execution_count": 53,
   "id": "4654f7d2",
   "metadata": {},
   "outputs": [],
   "source": [
    "context = \"\\n\\n\".join(recipes_chunks) + \"\\n\\n\".join(conversations_chunks)\n",
    "\n",
    "prompt = f\"\"\"\n",
    "Context:\n",
    "{context}\n",
    "\n",
    "Question: {question}\n",
    "Answer:\n",
    "\"\"\""
   ]
  },
  {
   "cell_type": "code",
   "execution_count": null,
   "id": "3a4a03d5",
   "metadata": {},
   "outputs": [
    {
     "name": "stdout",
     "output_type": "stream",
     "text": [
      " Title: Creamy Tomato Pasta\n",
      "Ingredients: [\"1 lb. (450 g) spaghetti\", \"2 Tbsp. olive oil\", \"3 garlic cloves, minced\", \"1 (28 oz.) can crushed tomatoes\", \"1 tsp. sugar\", \"1 tsp. dried basil\", \"1/2 tsp. salt\", \"1/4 tsp. black pepper\", \"2 c. shredded mozzarella cheese\", \"1/2 cup grated Parmesan cheese\"]\n",
      "Directions: [\"Cook spaghetti according to package directions.\", \"Heat olive oil in a large skillet over medium heat.\", \"Add garlic and cook until fragrant, about 1 minute.\", \"Stir in crushed tomatoes, sugar, basil, salt, and pepper.\", \"Simmer for 10 minutes.\", \"Drain spaghetti and add to the skillet.\", \"Stir in mozzarella cheese and Parmesan cheese until melted.\", \"Serve hot.\"]\n",
      "\n",
      "I'm sorry to hear that you're feeling sad. Comfort food can sometimes help lift our mood, and this Creamy Tomato Pasta recipe might be a great choice for you. It's easy to make, and the combination of tomatoes, basil, mozzarella, and Parmesan cheese should provide a delicious, comforting meal. Hope it helps!\n"
     ]
    }
   ],
   "source": [
    "from openai import OpenAI\n",
    "\n",
    "client = OpenAI(base_url=\"http://localhost:1234/v1\", api_key=\"sk-no-key-needed\")\n",
    "\n",
    "\n",
    "response = client.chat.completions.create(\n",
    "    model=\"mistral\",\n",
    "    messages=[{\"role\": \"user\", \"content\": prompt}],\n",
    "    temperature=0.7,\n",
    ")\n",
    "\n",
    "print(response.choices[0].message.content)\n"
   ]
  }
 ],
 "metadata": {
  "kernelspec": {
   "display_name": ".venv",
   "language": "python",
   "name": "python3"
  },
  "language_info": {
   "codemirror_mode": {
    "name": "ipython",
    "version": 3
   },
   "file_extension": ".py",
   "mimetype": "text/x-python",
   "name": "python",
   "nbconvert_exporter": "python",
   "pygments_lexer": "ipython3",
   "version": "3.11.9"
  }
 },
 "nbformat": 4,
 "nbformat_minor": 5
}
