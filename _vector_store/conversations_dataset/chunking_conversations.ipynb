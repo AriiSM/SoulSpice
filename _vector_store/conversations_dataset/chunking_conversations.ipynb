{
 "cells": [
  {
   "cell_type": "markdown",
   "id": "92a092b4",
   "metadata": {},
   "source": [
    "data set : EmpatheticDialogues"
   ]
  },
  {
   "cell_type": "code",
   "execution_count": 99,
   "id": "440b7e01",
   "metadata": {},
   "outputs": [],
   "source": [
    "#pip install pandas"
   ]
  },
  {
   "cell_type": "code",
   "execution_count": 100,
   "id": "9d7dcb28",
   "metadata": {},
   "outputs": [],
   "source": [
    "import pandas as pd"
   ]
  },
  {
   "cell_type": "code",
   "execution_count": 101,
   "id": "a8c84b87",
   "metadata": {},
   "outputs": [],
   "source": [
    "df = pd.read_csv(\"empatheticdialogues/train.csv\", delimiter=\",\", quotechar='\"', on_bad_lines='skip')"
   ]
  },
  {
   "cell_type": "code",
   "execution_count": 102,
   "id": "05e1d6a3",
   "metadata": {},
   "outputs": [],
   "source": [
    "def build_conversation_with_context(group):\n",
    "    context = group[\"context\"].iloc[0]\n",
    "\n",
    "    convo = f\"[Context: {context}]\\n\"\n",
    "    for _, row in group.iterrows():\n",
    "        speaker = \"User\" if row[\"speaker_idx\"] in [1, 2] else \"Bot\"\n",
    "        convo += f\"{speaker}: {row['utterance']}\\n\"\n",
    "        \n",
    "    return convo.strip()\n"
   ]
  },
  {
   "cell_type": "code",
   "execution_count": 103,
   "id": "e0c36ae9",
   "metadata": {},
   "outputs": [
    {
     "name": "stderr",
     "output_type": "stream",
     "text": [
      "C:\\Users\\simaa\\AppData\\Local\\Temp\\ipykernel_23620\\1757822296.py:1: DeprecationWarning: DataFrameGroupBy.apply operated on the grouping columns. This behavior is deprecated, and in a future version of pandas the grouping columns will be excluded from the operation. Either pass `include_groups=False` to exclude the groupings or explicitly select the grouping columns after groupby to silence this warning.\n",
      "  conversations = df.groupby(\"conv_id\").apply(build_conversation_with_context).tolist()\n"
     ]
    }
   ],
   "source": [
    "conversations = df.groupby(\"conv_id\").apply(build_conversation_with_context).tolist()"
   ]
  },
  {
   "cell_type": "code",
   "execution_count": 104,
   "id": "3f3641f0",
   "metadata": {},
   "outputs": [
    {
     "name": "stdout",
     "output_type": "stream",
     "text": [
      "[Context: sentimental]\n",
      "User: I remember going to see the fireworks with my best friend. It was the first time we ever spent time alone together. Although there was a lot of people_comma_ we felt like the only people in the world.\n",
      "Bot: Was this a friend you were in love with_comma_ or just a best friend?\n",
      "User: This was a best friend. I miss her.\n",
      "Bot: Where has she gone?\n",
      "User: We no longer talk.\n",
      "Bot: Oh was this something that happened because of an argument?\n"
     ]
    }
   ],
   "source": [
    "print(conversations[0])"
   ]
  },
  {
   "cell_type": "code",
   "execution_count": null,
   "id": "4d62b7ce",
   "metadata": {},
   "outputs": [],
   "source": [
    "with open(\"conversatii_procesate.txt\", \"w\", encoding=\"utf-8\") as f:\n",
    "    for conv in conversations:\n",
    "        f.write(conv.strip() + \"\\n\")\n",
    "        f.write(\"==CHUNK END==\\n\")\n"
   ]
  },
  {
   "cell_type": "code",
   "execution_count": null,
   "id": "d1a6e698",
   "metadata": {},
   "outputs": [],
   "source": []
  },
  {
   "cell_type": "code",
   "execution_count": null,
   "id": "40b12f57",
   "metadata": {},
   "outputs": [],
   "source": []
  }
 ],
 "metadata": {
  "kernelspec": {
   "display_name": ".venv",
   "language": "python",
   "name": "python3"
  },
  "language_info": {
   "codemirror_mode": {
    "name": "ipython",
    "version": 3
   },
   "file_extension": ".py",
   "mimetype": "text/x-python",
   "name": "python",
   "nbconvert_exporter": "python",
   "pygments_lexer": "ipython3",
   "version": "3.11.9"
  }
 },
 "nbformat": 4,
 "nbformat_minor": 5
}
